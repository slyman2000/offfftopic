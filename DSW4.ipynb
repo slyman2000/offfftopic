{
 "cells": [
  {
   "cell_type": "markdown",
   "metadata": {},
   "source": [
    "# Use of Open data to prepare the tourist trip to MUC\n",
    "## Introduction and Background\n",
    "\n",
    "Munich exudes Bavarian charm. Beer fanatics should head immediately to the Hofbräuhaus, a hops heaven that’s been churning out the good stuff since 1589. The drinking is downright legendary during Oktoberfest, a celebration of local beers and German specialty foods. Emulate world-class athletes at the Olympiapark, where skating on the Olympic ice rink will make you feel like a champion. The promenade of Marienplatz is perfect for people watching and gawking at the Glockenspiele of City Hall[<sup>1</sup>](#fn1). \n",
    "In Munich there are many museums, theaters and offcourse it is well known for a Beer Festival <b>Oktoberfest</b>  with about 6 millions visitors per year. \n",
    "![Image](https://upload.wikimedia.org/wikipedia/commons/thumb/e/e4/Hippodrom_Zelt_Oktoberfest.jpg/800px-Hippodrom_Zelt_Oktoberfest.jpg)\n",
    "[<b>Oktoberfest Venue</b>](https://en.wikipedia.org/wiki/Oktoberfest)\n",
    "![Image](https://upload.wikimedia.org/wikipedia/commons/thumb/3/3a/Schloss_oberschleissheim-wikipedia.jpg/799px-Schloss_oberschleissheim-wikipedia.jpg)\n",
    "[<b>Schleissheim Palace</b>](https://en.wikipedia.org/wiki/Schleissheim_Palace)\n",
    "![Image](https://upload.wikimedia.org/wikipedia/commons/thumb/2/2f/Eisbach_die_Welle_Surfer.JPG/800px-Eisbach_die_Welle_Surfer.JPG)\n",
    "\n",
    "<b>Eisbach</b>\n",
    "\n",
    "Along with that, there are many parks and playgrounds and points of interest, which is worth to visit. \n",
    "\n",
    "\n",
    "\n",
    "\n",
    "<span id=\"fn1\"> https://www.tripadvisor.com/Tourism-g187309-Munich_Upper_Bavaria_Bavaria-Vacations.html?fid=0c46b919-247a-458d-82d6-af73f4626e8e</span>\n",
    "\n",
    "\n",
    "\n",
    "\n",
    "## Problem Description\n",
    "When you planning tourist trip, you are often reading reports, suggestions and have expectations about points of interest to visit. As long as some point of interest is nearby, the priority can be suddenly changed. Sometimes you or your kids need WC, or wifi. Sometimes you can decide to go for lunch befor visiting POI. Sometimes you spend less time at POI and still have several hours free. You want to discover what is nearby. Are there same sightseeing points or kids playgroud. \n",
    "\n",
    "[Open data](https://en.wikipedia.org/wiki/Open_data) is the idea that some data should be freely available to everyone to use and republish as they wish, without restrictions from copyright, patents or other mechanisms of control. \n",
    "Many gorvernment and city authorities publish open data related to the country, city or region. While digging into these data sources it is possible to enrich normal tour guides and recomendations. \n",
    "In this project we will try to help different categories of tourist travelers to  find places, like WiFi hotspots, Markets, Kids playgrounds, Sites around Isar river and Public WCs using Open Data and APIs like FourSquare.\n",
    "\n",
    "## Data sources\n",
    "\n",
    "Foursquare API https://developer.foursquare.com\n",
    "\n",
    "\n",
    "POI at Isar River with coordinates https://www.opengov-muenchen.de/dataset/points-of-interest-an-der-sudlichen-isar/resource/6fb56066-11b2-498d-ba22-cbcc85b660b4\n",
    "\n",
    "Public Wifi https://www.opengov-muenchen.de/dataset/m-wlan-hotspots/resource/4ac5b616-ebbf-4857-ae79-43369d6c4c87\n",
    "\n",
    "Public Playgrounds https://www.opengov-muenchen.de/dataset/oeffentliche-spielplaetze-muenchen/resource/845ce3bd-ea80-4623-b51d-a30680175c22\n",
    "\n",
    "\n",
    "Oktoberfest data inkluding beer and fried chiken price over the years\n",
    "https://www.opengov-muenchen.de/dataset/oktoberfest/resource/e0f664cf-6dd9-4743-bd2b-81a8b18bd1d2?view_id=e619eb4d-fc3b-44cc-88ea-0086d710ee1f\n",
    "\n",
    "Location of Markets\n",
    "https://www.opengov-muenchen.de/dataset/maerkte/resource/f5608df8-43d3-4575-9bce-4fdb810bb516\n",
    "\n",
    "Museums Visitors\n",
    "https://www.opengov-muenchen.de/dataset/monatszahlen-museen/resource/6c6a809e-91ee-4f3e-9268-a8b7bc38311c\n",
    "\n",
    "Public Toilets\n",
    "https://www.opengov-muenchen.de/dataset/offentliche-toiletten-der-landeshauptstadt-muenchen\n"
   ]
  },
  {
   "cell_type": "markdown",
   "metadata": {},
   "source": []
  }
 ],
 "metadata": {
  "kernelspec": {
   "display_name": "Python 3",
   "language": "python",
   "name": "python3"
  },
  "language_info": {
   "codemirror_mode": {
    "name": "ipython",
    "version": 3
   },
   "file_extension": ".py",
   "mimetype": "text/x-python",
   "name": "python",
   "nbconvert_exporter": "python",
   "pygments_lexer": "ipython3",
   "version": "3.7.6"
  }
 },
 "nbformat": 4,
 "nbformat_minor": 2
}
